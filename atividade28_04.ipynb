{
  "nbformat": 4,
  "nbformat_minor": 0,
  "metadata": {
    "colab": {
      "provenance": [],
      "authorship_tag": "ABX9TyNn85JtCgZLu1CWeXEcEBuK",
      "include_colab_link": true
    },
    "kernelspec": {
      "name": "python3",
      "display_name": "Python 3"
    },
    "language_info": {
      "name": "python"
    }
  },
  "cells": [
    {
      "cell_type": "markdown",
      "metadata": {
        "id": "view-in-github",
        "colab_type": "text"
      },
      "source": [
        "<a href=\"https://colab.research.google.com/github/jpmsantosTI/PA_Python/blob/main/atividade28_04.ipynb\" target=\"_parent\"><img src=\"https://colab.research.google.com/assets/colab-badge.svg\" alt=\"Open In Colab\"/></a>"
      ]
    },
    {
      "cell_type": "markdown",
      "source": [
        "1"
      ],
      "metadata": {
        "id": "J2rQu1ji2-1P"
      }
    },
    {
      "cell_type": "code",
      "execution_count": 5,
      "metadata": {
        "colab": {
          "base_uri": "https://localhost:8080/"
        },
        "id": "OJxeHtJJqQZr",
        "outputId": "f1677f7f-d0e4-4aee-82a8-aca052180bd6"
      },
      "outputs": [
        {
          "output_type": "stream",
          "name": "stdout",
          "text": [
            "Digite um número pra saber se ele é par ou ímpar2\n",
            "O número 2 é par? True\n",
            "O número 2 é ímpar? False\n"
          ]
        }
      ],
      "source": [
        "#ENTRADA\n",
        "valor = int(input(\"Digite um número pra saber se ele é par ou ímpar\"))\n",
        "\n",
        "#PROCESSAMENTO\n",
        "par = (valor %2 == 0)\n",
        "impar = (valor %2 == 1)\n",
        "\n",
        "#SAIDA\n",
        "print (\"O número\", valor, \"é par?\", par)\n",
        "print (\"O número\", valor, \"é ímpar?\", impar)"
      ]
    },
    {
      "cell_type": "markdown",
      "source": [
        "2"
      ],
      "metadata": {
        "id": "aW0YqgxS27zj"
      }
    },
    {
      "cell_type": "code",
      "source": [
        "#ENTRADA\n",
        "l1 = int(input(\"informe os três lados do triângulo, lado1 = \"))\n",
        "l2 = int(input(\"lado2 = \"))\n",
        "l3 = int(input(\"lado3 = \"))\n",
        "\n",
        "#PROCESSAMENTO\n",
        "\n",
        "triangulo = (l1 + l2 > l3) and (l1 + l3 > l2) and (l2 + l3 > l1)\n",
        "equilatero = (l1 == l2 == l3)\n",
        "escaleno = (l1 != l2 != l3)\n",
        "isoceles = (equilatero == escaleno)\n",
        "#SAIDA\n",
        "print(\"triangulo? \",triangulo)\n",
        "print(\"equilatero? \",equilatero)\n",
        "print(\"escaleno? \",escaleno)\n",
        "print(\"isoceles? \",isoceles)"
      ],
      "metadata": {
        "colab": {
          "base_uri": "https://localhost:8080/"
        },
        "id": "uDwFGVrKtbJJ",
        "outputId": "8db005eb-a7ca-41f3-fccb-41f07b597562"
      },
      "execution_count": 44,
      "outputs": [
        {
          "output_type": "stream",
          "name": "stdout",
          "text": [
            "informe os três lados do triângulo, lado1 = 2\n",
            "lado2 = 2\n",
            "lado3 = 3\n",
            "triangulo?  True\n",
            "equilatero?  False\n",
            "escaleno?  False\n",
            "isoceles?  True\n"
          ]
        }
      ]
    },
    {
      "cell_type": "markdown",
      "source": [
        "3"
      ],
      "metadata": {
        "id": "9uyOfaHl3CjE"
      }
    },
    {
      "cell_type": "code",
      "source": [
        "#ENTRADA\n",
        "peso = float(input(\"qual é o seu peso? \"))\n",
        "altura = float(input(\"qual é a sua altura? \"))\n",
        "\n",
        "#PROCESSAMENTO\n",
        "imc = peso/altura**2\n",
        "baixo = imc < 18.5\n",
        "normal = 18.5 <= imc <= 24.9\n",
        "sobrepeso = 25 <= imc <= 29.9\n",
        "obesidade_grau_1 = 30 <= imc <= 34.9\n",
        "obesidade_grau_2 = 35 <= imc <= 39.9\n",
        "obesidade_grau_3 = imc > 40\n",
        "\n",
        "#SAIDA\n",
        "print(\"Tem peso baixo?\", baixo)\n",
        "print(\"Tem peso normal?\", normal)\n",
        "print(\"Tem sobrepeso?\", sobrepeso)\n",
        "print(\"Tem obesidade grau 1?\", obesidade_grau_1)\n",
        "print(\"Tem obesidade grau 2?\", obesidade_grau_2)\n",
        "print(\"Tem obesidade grau 3?\", obesidade_grau_3)"
      ],
      "metadata": {
        "colab": {
          "base_uri": "https://localhost:8080/"
        },
        "id": "ADGVo2tK3D-P",
        "outputId": "cab0bfcd-11b8-406a-94cf-f8cf13c36f07"
      },
      "execution_count": 68,
      "outputs": [
        {
          "output_type": "stream",
          "name": "stdout",
          "text": [
            "qual é o seu peso? 40\n",
            "qual é a sua altura? 1.78\n",
            "Tem peso baixo? True\n",
            "Tem peso normal? False\n",
            "Tem sobrepeso? False\n",
            "Tem obesidade grau 1? False\n",
            "Tem obesidade grau 2? False\n",
            "Tem obesidade grau 3? False\n"
          ]
        }
      ]
    },
    {
      "cell_type": "markdown",
      "source": [
        "4"
      ],
      "metadata": {
        "id": "vjZ2foOl-1ZC"
      }
    },
    {
      "cell_type": "code",
      "source": [
        "# ENTRADA\n",
        "altura = float(input(\"Qual é a sua altura? \"))\n",
        "idade = int(input(\"Qual é a sua idade? \"))\n",
        "\n",
        "# PROCESSAMENTO\n",
        "pode = (altura >= 1.75) and (idade >= 18)\n",
        "\n",
        "# SAÍDA\n",
        "print(\"Pode competir?\", pode)\n"
      ],
      "metadata": {
        "colab": {
          "base_uri": "https://localhost:8080/"
        },
        "id": "ZeW-cW-8-2cL",
        "outputId": "428e3c66-be65-445a-a924-e27f54b6e6c2"
      },
      "execution_count": 70,
      "outputs": [
        {
          "output_type": "stream",
          "name": "stdout",
          "text": [
            "Qual é a sua altura? 1.74\n",
            "Qual é a sua idade? 15\n",
            "Pode competir? False\n"
          ]
        }
      ]
    }
  ]
}