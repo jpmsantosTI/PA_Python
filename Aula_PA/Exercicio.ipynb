{
  "nbformat": 4,
  "nbformat_minor": 0,
  "metadata": {
    "colab": {
      "provenance": [],
      "authorship_tag": "ABX9TyOnm5AyUulZKTmYE22zezuY",
      "include_colab_link": true
    },
    "kernelspec": {
      "name": "python3",
      "display_name": "Python 3"
    },
    "language_info": {
      "name": "python"
    }
  },
  "cells": [
    {
      "cell_type": "markdown",
      "metadata": {
        "id": "view-in-github",
        "colab_type": "text"
      },
      "source": [
        "<a href=\"https://colab.research.google.com/github/jpmsantosTI/PA_Python/blob/main/Aula_PA/Exercicio.ipynb\" target=\"_parent\"><img src=\"https://colab.research.google.com/assets/colab-badge.svg\" alt=\"Open In Colab\"/></a>"
      ]
    },
    {
      "cell_type": "code",
      "execution_count": 5,
      "metadata": {
        "colab": {
          "base_uri": "https://localhost:8080/"
        },
        "id": "6Evy9fy596Rp",
        "outputId": "5edc80f5-9fe3-4ed5-fc2a-5466751c5da5"
      },
      "outputs": [
        {
          "name": "stdout",
          "output_type": "stream",
          "text": [
            "coloque um numero 2\n",
            "coloque mais um numero 5\n"
          ]
        }
      ],
      "source": [
        "#ENTRADA\n",
        "num1 = float(input('coloque um numero '))\n",
        "num2 = float(input('coloque mais um numero '))"
      ]
    },
    {
      "cell_type": "markdown",
      "source": [
        "# **Processamento**"
      ],
      "metadata": {
        "id": "phgPwB2f-oLM"
      }
    },
    {
      "cell_type": "code",
      "source": [
        "#soma\n",
        "soma = num1 + num2\n",
        "#saida\n",
        "print(soma)"
      ],
      "metadata": {
        "colab": {
          "base_uri": "https://localhost:8080/"
        },
        "id": "WkrRBHRg_b9S",
        "outputId": "e671e74d-3574-4bca-a214-0365d04b91a9"
      },
      "execution_count": 7,
      "outputs": [
        {
          "output_type": "stream",
          "name": "stdout",
          "text": [
            "7.0\n"
          ]
        }
      ]
    },
    {
      "cell_type": "code",
      "source": [
        "#subtraçao\n",
        "subtracao = num1 - num2\n",
        "#saida\n",
        "print(subtracao)"
      ],
      "metadata": {
        "colab": {
          "base_uri": "https://localhost:8080/"
        },
        "id": "9YbeYa64_vJg",
        "outputId": "276b20c9-8157-4d5e-a162-b59d1a0f7aff"
      },
      "execution_count": 8,
      "outputs": [
        {
          "output_type": "stream",
          "name": "stdout",
          "text": [
            "-3.0\n"
          ]
        }
      ]
    },
    {
      "cell_type": "code",
      "source": [
        "#multiplicaçao\n",
        "multiplicacao = num1 * num2\n",
        "#saida\n",
        "print(multiplicacao)"
      ],
      "metadata": {
        "colab": {
          "base_uri": "https://localhost:8080/"
        },
        "id": "3FVOscLcAL0U",
        "outputId": "a34185a5-fcfc-4ca5-824b-96256158d883"
      },
      "execution_count": 10,
      "outputs": [
        {
          "output_type": "stream",
          "name": "stdout",
          "text": [
            "10.0\n"
          ]
        }
      ]
    },
    {
      "cell_type": "code",
      "source": [
        "#divisão\n",
        "divisao = num1 / num2\n",
        "#saida\n",
        "print(divisao)"
      ],
      "metadata": {
        "colab": {
          "base_uri": "https://localhost:8080/"
        },
        "id": "TW9eobFtAgW_",
        "outputId": "67199c35-f0bb-4993-cc8a-ffaec9336bf1"
      },
      "execution_count": 11,
      "outputs": [
        {
          "output_type": "stream",
          "name": "stdout",
          "text": [
            "0.4\n"
          ]
        }
      ]
    }
  ]
}