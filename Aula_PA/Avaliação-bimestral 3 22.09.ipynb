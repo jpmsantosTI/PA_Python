{
 "cells": [
  {
   "cell_type": "markdown",
   "metadata": {
    "id": "XpJAZxJGnsjo"
   },
   "source": [
    "Coloque seu nome aqui:"
   ]
  },
  {
   "cell_type": "markdown",
   "metadata": {
    "id": "psR_IyuqtxJc"
   },
   "source": [
    "**Atividade Avaliativa **\n",
    "\n",
    "Enunciado:\n",
    "\n",
    "Crie um programa em Python para avaliar uma competição de bandas de música. O programa deve:\n",
    "\n",
    "Perguntar a quantidade de bandas participantes (mínimo 3).\n",
    "\n",
    "Perguntar o nome de cada banda.\n",
    "\n",
    "Para cada banda, receber as notas de 5 jurados (valores de 0 a 10).\n",
    "\n",
    "Calcular a média das notas de cada banda e armazenar o resultado em um dicionário, onde a chave será o nome da banda e o valor será a média das notas.\n",
    "\n",
    "Ao final, mostrar:\n",
    "\n",
    "A média de cada banda.\n",
    "\n",
    "O nome da banda vencedora (a que tiver maior média)."
   ]
  },
  {
   "cell_type": "code",
   "execution_count": 28,
   "metadata": {},
   "outputs": [
    {
     "name": "stdout",
     "output_type": "stream",
     "text": [
      "quantas bandas participantes? \n",
      ": 3\n",
      "qual o nome da banda 1: arroz e feijao\n",
      "qual o nome da banda 2: algo estranho\n",
      "qual o nome da banda 3: e o terror que chegou\n",
      "Notas da banda arroz e feijao:\n",
      "nota1 lembre-se, de 0 a 10: 3\n",
      "nota2: 3\n",
      "nota3: 3\n",
      "nota4: 3\n",
      "nota5: 3\n",
      "\n",
      "\n",
      "Notas da banda algo estranho:\n",
      "nota1 lembre-se, de 0 a 10: 4\n",
      "nota2: 4\n",
      "nota3: 4\n",
      "nota4: 4\n",
      "nota5: 4\n",
      "\n",
      "\n",
      "Notas da banda e o terror que chegou:\n",
      "nota1 lembre-se, de 0 a 10: 5\n",
      "nota2: 5\n",
      "nota3: 5\n",
      "nota4: 5\n",
      "nota5: 6\n",
      "\n",
      "\n",
      "media da banda arroz e feijao: 3.0\n",
      "media da banda algo estranho: 4.0\n",
      "media da banda e o terror que chegou: 5.2\n",
      "banda vencedora: e o terror que chegou\n"
     ]
    }
   ],
   "source": [
    "#digite sua resposta\n",
    "mbandas = {}\n",
    "bandas = []\n",
    "qbandas = int(input(\"quantas bandas participantes? \\n: \"))\n",
    "\n",
    "if qbandas>=3:\n",
    "    \n",
    "    for i in range(qbandas):\n",
    "        nomebanda = str(input(f\"qual o nome da banda {i+1}: \"))\n",
    "        bandas.append(nomebanda)\n",
    "    \n",
    "    for banda in bandas:\n",
    "        print(f\"Notas da banda {banda}:\")\n",
    "        nota1 = int(input(\"nota1 lembre-se, de 0 a 10: \"))\n",
    "        nota2 = int(input(\"nota2: \"))\n",
    "        nota3 = int(input(\"nota3: \"))\n",
    "        nota4 = int(input(\"nota4: \"))\n",
    "        nota5 = int(input(\"nota5: \"))\n",
    "        print(\"\\n\")\n",
    "        media = (nota2 + nota1 + nota3 + nota4+ nota5) / 5\n",
    "        mbandas[banda]=media\n",
    "        \n",
    "    for banda, media in mbandas.items():\n",
    "        print(f\"media da banda {banda}: {media}\")\n",
    "    print(f\"Banda vencedora: {max(mbandas)}\")\n",
    "else:\n",
    "    print(\"é necessario 3 bnadas no minimo\")"
   ]
  },
  {
   "cell_type": "markdown",
   "metadata": {
    "id": "fRV1N-Q4G7BK"
   },
   "source": [
    "Enunciado:\n",
    "\n",
    "Crie um programa que conte quantas vezes cada palavra aparece em uma frase.\n",
    "\n",
    "Pedir ao usuário para digitar uma frase\n",
    "\n",
    "Imprimir a palavra e quantas vezes ela aparece"
   ]
  },
  {
   "cell_type": "code",
   "execution_count": 40,
   "metadata": {
    "id": "HwK3-mVQHv8j",
    "scrolled": false
   },
   "outputs": [
    {
     "name": "stdout",
     "output_type": "stream",
     "text": [
      "fala uma frase aí: o rato rato roeu meu guardanapo\n",
      "A palavra \"o\" aparece 1 vez(es) na frase\n",
      "A palavra \"rato\" aparece 2 vez(es) na frase\n",
      "A palavra \"roeu\" aparece 1 vez(es) na frase\n",
      "A palavra \"meu\" aparece 1 vez(es) na frase\n",
      "A palavra \"guardanapo\" aparece 1 vez(es) na frase\n"
     ]
    }
   ],
   "source": [
    "# Digite sua resposta\n",
    "pal = {}\n",
    "frase= input(\"fala uma frase aí: \")\n",
    "for i in frase.split(\" \"):\n",
    "    pal[i]=frase.split(\" \").count(i)\n",
    "for palavra, qtd in pal.items():\n",
    "    print(f\"A palavra \\\"{palavra}\\\" aparece {qtd} vez(es) na frase\")"
   ]
  },
  {
   "cell_type": "markdown",
   "metadata": {
    "id": "BKrOSqrOI2T5"
   },
   "source": [
    "Enunciado:\n",
    "\n",
    "Crie um programa em python que imprima números pares\n",
    "\n",
    "Pedir o usuário para digitar uma lista com mínimo 10 números\n",
    "\n",
    "Criar uma nova somente com numeros pares\n",
    "\n",
    "Imprimir números pares\n",
    "\n"
   ]
  },
  {
   "cell_type": "code",
   "execution_count": 6,
   "metadata": {
    "id": "dBf7H6s9MjgZ",
    "scrolled": false
   },
   "outputs": [
    {
     "name": "stdout",
     "output_type": "stream",
     "text": [
      "fala um numero aí, 1/10: 8\n"
     ]
    },
    {
     "ename": "IndexError",
     "evalue": "list assignment index out of range",
     "output_type": "error",
     "traceback": [
      "\u001b[1;31m---------------------------------------------------------------------------\u001b[0m",
      "\u001b[1;31mIndexError\u001b[0m                                Traceback (most recent call last)",
      "Cell \u001b[1;32mIn [6], line 6\u001b[0m\n\u001b[0;32m      4\u001b[0m \u001b[38;5;28;01mfor\u001b[39;00m i \u001b[38;5;129;01min\u001b[39;00m \u001b[38;5;28mrange\u001b[39m(\u001b[38;5;241m10\u001b[39m):\n\u001b[0;32m      5\u001b[0m     num \u001b[38;5;241m=\u001b[39m \u001b[38;5;28mint\u001b[39m(\u001b[38;5;28minput\u001b[39m(\u001b[38;5;124mf\u001b[39m\u001b[38;5;124m\"\u001b[39m\u001b[38;5;124mfala um numero aí, \u001b[39m\u001b[38;5;132;01m{\u001b[39;00mi \u001b[38;5;241m+\u001b[39m \u001b[38;5;241m1\u001b[39m\u001b[38;5;132;01m}\u001b[39;00m\u001b[38;5;124m/10: \u001b[39m\u001b[38;5;124m\"\u001b[39m))\n\u001b[1;32m----> 6\u001b[0m     nums[\u001b[38;5;241m1\u001b[39m]\u001b[38;5;241m=\u001b[39mnum\n",
      "\u001b[1;31mIndexError\u001b[0m: list assignment index out of range"
     ]
    }
   ],
   "source": [
    "# Digite sua resposta\n",
    "pares= []\n",
    "for i in range(10):\n",
    "    num = int(input(f\"fala um numero aí, {i + 1}/10: \"))\n",
    "    if num % 2 == 0:\n",
    "        pares.append(num)\n"
   ]
  }
 ],
 "metadata": {
  "colab": {
   "authorship_tag": "ABX9TyMPfa4id0nMFHSWqcbBwSar",
   "provenance": [
    {
     "file_id": "1oEsagsr0AUsUTO9iGnea3JAW6NiCwqeB",
     "timestamp": 1758547990346
    },
    {
     "file_id": "1LADCxzYvBqiYFcjSgL_Z5bblVMBbsfJg",
     "timestamp": 1757516692807
    }
   ]
  },
  "kernelspec": {
   "display_name": "Python 3 (ipykernel)",
   "language": "python",
   "name": "python3"
  },
  "language_info": {
   "codemirror_mode": {
    "name": "ipython",
    "version": 3
   },
   "file_extension": ".py",
   "mimetype": "text/x-python",
   "name": "python",
   "nbconvert_exporter": "python",
   "pygments_lexer": "ipython3",
   "version": "3.10.7"
  }
 },
 "nbformat": 4,
 "nbformat_minor": 1
}
