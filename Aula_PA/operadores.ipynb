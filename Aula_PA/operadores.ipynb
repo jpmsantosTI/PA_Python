{
  "nbformat": 4,
  "nbformat_minor": 0,
  "metadata": {
    "colab": {
      "provenance": [],
      "authorship_tag": "ABX9TyOs66gaX/yTg/6fnV5ppWet",
      "include_colab_link": true
    },
    "kernelspec": {
      "name": "python3",
      "display_name": "Python 3"
    },
    "language_info": {
      "name": "python"
    }
  },
  "cells": [
    {
      "cell_type": "markdown",
      "metadata": {
        "id": "view-in-github",
        "colab_type": "text"
      },
      "source": [
        "<a href=\"https://colab.research.google.com/github/jpmsantosTI/PA_Python/blob/main/Aula_PA/operadores.ipynb\" target=\"_parent\"><img src=\"https://colab.research.google.com/assets/colab-badge.svg\" alt=\"Open In Colab\"/></a>"
      ]
    },
    {
      "cell_type": "code",
      "execution_count": 1,
      "metadata": {
        "colab": {
          "base_uri": "https://localhost:8080/"
        },
        "id": "ddwf1lB3xXML",
        "outputId": "743f483c-b56d-4327-9f55-b2941ff935b8"
      },
      "outputs": [
        {
          "output_type": "execute_result",
          "data": {
            "text/plain": [
              "2"
            ]
          },
          "metadata": {},
          "execution_count": 1
        }
      ],
      "source": [
        "# Soma\n",
        "1+1"
      ]
    },
    {
      "cell_type": "code",
      "source": [
        "# Subtração\n",
        "5-3"
      ],
      "metadata": {
        "colab": {
          "base_uri": "https://localhost:8080/"
        },
        "id": "DatiqXhtx0Aa",
        "outputId": "312977bb-7190-428a-a864-32dff0123353"
      },
      "execution_count": 2,
      "outputs": [
        {
          "output_type": "execute_result",
          "data": {
            "text/plain": [
              "2"
            ]
          },
          "metadata": {},
          "execution_count": 2
        }
      ]
    },
    {
      "cell_type": "code",
      "source": [
        "# Multiplicação\n",
        "5*5"
      ],
      "metadata": {
        "colab": {
          "base_uri": "https://localhost:8080/"
        },
        "id": "9Wh3fpOcyCIV",
        "outputId": "42e37244-7e45-4d3e-aa6b-27fc1f5e940c"
      },
      "execution_count": 3,
      "outputs": [
        {
          "output_type": "execute_result",
          "data": {
            "text/plain": [
              "25"
            ]
          },
          "metadata": {},
          "execution_count": 3
        }
      ]
    },
    {
      "cell_type": "code",
      "source": [
        "#Divisão\n",
        "6/2"
      ],
      "metadata": {
        "colab": {
          "base_uri": "https://localhost:8080/"
        },
        "id": "ACzhqUcQyYH0",
        "outputId": "6b79d883-6eab-45a2-bccb-b5988226c09d"
      },
      "execution_count": 4,
      "outputs": [
        {
          "output_type": "execute_result",
          "data": {
            "text/plain": [
              "3.0"
            ]
          },
          "metadata": {},
          "execution_count": 4
        }
      ]
    },
    {
      "cell_type": "code",
      "source": [
        "#expoente\n",
        "2**3"
      ],
      "metadata": {
        "colab": {
          "base_uri": "https://localhost:8080/"
        },
        "id": "8ach4cPYy29-",
        "outputId": "55d2daf1-1209-4473-f890-636f798b8e19"
      },
      "execution_count": 5,
      "outputs": [
        {
          "output_type": "execute_result",
          "data": {
            "text/plain": [
              "8"
            ]
          },
          "metadata": {},
          "execution_count": 5
        }
      ]
    },
    {
      "cell_type": "markdown",
      "source": [
        "**Variaveis**"
      ],
      "metadata": {
        "id": "tIilqakXz2LJ"
      }
    },
    {
      "cell_type": "code",
      "source": [
        "soma = 5 + 7"
      ],
      "metadata": {
        "id": "UYfQ-cPY0AVo"
      },
      "execution_count": 110,
      "outputs": []
    },
    {
      "cell_type": "code",
      "source": [
        "print ('A soma é igual a', soma)"
      ],
      "metadata": {
        "colab": {
          "base_uri": "https://localhost:8080/"
        },
        "id": "4WJnJSsx0NVh",
        "outputId": "ba16df48-6cf8-4ee0-c64b-919184cb412e"
      },
      "execution_count": 122,
      "outputs": [
        {
          "output_type": "stream",
          "name": "stdout",
          "text": [
            "A soma é igual a 12\n"
          ]
        }
      ]
    },
    {
      "cell_type": "code",
      "source": [
        "#soma = soma + 2\n",
        "#ou\n",
        "soma += 2\n",
        "print ('A soma agora é igual a', soma)"
      ],
      "metadata": {
        "colab": {
          "base_uri": "https://localhost:8080/"
        },
        "id": "NUhXIMa10uNH",
        "outputId": "b5f18639-27cc-42e8-ca2e-d699108faf26"
      },
      "execution_count": 126,
      "outputs": [
        {
          "output_type": "stream",
          "name": "stdout",
          "text": [
            "A soma agora é igual a 20\n"
          ]
        }
      ]
    },
    {
      "cell_type": "code",
      "source": [
        "soma = soma - 5\n",
        "print ('A soma agora tem', soma)"
      ],
      "metadata": {
        "colab": {
          "base_uri": "https://localhost:8080/"
        },
        "id": "Em0uX9Qn181z",
        "outputId": "e6262672-7060-467f-c5d3-fd781cc26821"
      },
      "execution_count": 127,
      "outputs": [
        {
          "output_type": "stream",
          "name": "stdout",
          "text": [
            "A soma agora tem 15\n"
          ]
        }
      ]
    },
    {
      "cell_type": "code",
      "source": [
        "soma = soma +2-5*8/3\n",
        "print('A soma gora tem', soma)"
      ],
      "metadata": {
        "colab": {
          "base_uri": "https://localhost:8080/"
        },
        "id": "rwn9P8bW2Z6L",
        "outputId": "c3b1fb54-4893-403a-a251-4d4d57c9d747"
      },
      "execution_count": 225,
      "outputs": [
        {
          "output_type": "stream",
          "name": "stdout",
          "text": [
            "A soma gora tem -1073.000000000001\n"
          ]
        }
      ]
    },
    {
      "cell_type": "code",
      "source": [
        "soma1 = soma1 + (5+3)*6+7*9*(34)\n",
        "print(soma1)"
      ],
      "metadata": {
        "colab": {
          "base_uri": "https://localhost:8080/"
        },
        "id": "jDcPBBAb3Uru",
        "outputId": "13253f66-2fbe-426d-9d94-287ab74656cc"
      },
      "execution_count": 293,
      "outputs": [
        {
          "output_type": "stream",
          "name": "stdout",
          "text": [
            "28496\n"
          ]
        }
      ]
    },
    {
      "cell_type": "code",
      "source": [
        "soma1 = 0"
      ],
      "metadata": {
        "id": "CEN80vVs3-D7"
      },
      "execution_count": 274,
      "outputs": []
    },
    {
      "cell_type": "code",
      "source": [
        "soma1 = (6+7)*2\n",
        "print(soma1)"
      ],
      "metadata": {
        "colab": {
          "base_uri": "https://localhost:8080/"
        },
        "id": "Nsf65WgF4JmC",
        "outputId": "669a5bc0-e65f-4fcd-951a-42f0421edd22"
      },
      "execution_count": 294,
      "outputs": [
        {
          "output_type": "stream",
          "name": "stdout",
          "text": [
            "26\n"
          ]
        }
      ]
    },
    {
      "cell_type": "code",
      "source": [
        "#calcular area do quadrado\n",
        "\n",
        "##ENTRADA\n",
        "lado = float(input('digite o seu numero aqui'))\n",
        "\n",
        "##PROCESSAMENTO\n",
        "area = lado * lado\n",
        "\n",
        "##Saida\n",
        "print('A area do quadrado é', area, 'cm2')"
      ],
      "metadata": {
        "colab": {
          "base_uri": "https://localhost:8080/"
        },
        "id": "BYNO3UO86Oyv",
        "outputId": "5adc5619-c7b2-4466-e3b4-bbbf63bc8758"
      },
      "execution_count": 298,
      "outputs": [
        {
          "output_type": "stream",
          "name": "stdout",
          "text": [
            "digite o seu numero aqui3\n",
            "A area do quadrado é 9.0 cm2\n"
          ]
        }
      ]
    }
  ]
}