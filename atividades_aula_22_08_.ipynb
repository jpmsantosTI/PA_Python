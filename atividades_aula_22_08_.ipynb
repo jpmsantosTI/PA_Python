{
  "nbformat": 4,
  "nbformat_minor": 0,
  "metadata": {
    "colab": {
      "provenance": [],
      "include_colab_link": true
    },
    "kernelspec": {
      "name": "python3",
      "display_name": "Python 3"
    },
    "language_info": {
      "name": "python"
    }
  },
  "cells": [
    {
      "cell_type": "markdown",
      "metadata": {
        "id": "view-in-github",
        "colab_type": "text"
      },
      "source": [
        "<a href=\"https://colab.research.google.com/github/jpmsantosTI/PA_Python/blob/main/atividades_aula_22_08_.ipynb\" target=\"_parent\"><img src=\"https://colab.research.google.com/assets/colab-badge.svg\" alt=\"Open In Colab\"/></a>"
      ]
    },
    {
      "cell_type": "markdown",
      "source": [
        "**Exercícios com for, while, listas, strings e dicionários**"
      ],
      "metadata": {
        "id": "5KtSL9tuj-zo"
      }
    },
    {
      "cell_type": "markdown",
      "source": [
        "1) Soma dos números de uma lista\n",
        "\n",
        "Dada a lista numeros = [3, 7, 2, 8, 10], use um for para calcular a soma de todos os elementos."
      ],
      "metadata": {
        "id": "ZZZicFxfkEEg"
      }
    },
    {
      "cell_type": "code",
      "source": [
        "numb = [3, 7, 2, 8, 10]\n",
        "soma = 0\n",
        "for n in numb:\n",
        "    soma += n\n",
        "print(soma)"
      ],
      "metadata": {
        "colab": {
          "base_uri": "https://localhost:8080/"
        },
        "id": "Hn96Ex7LcvC8",
        "outputId": "8eff0aea-0087-4795-af5d-5426caa032ac"
      },
      "execution_count": 3,
      "outputs": [
        {
          "output_type": "stream",
          "name": "stdout",
          "text": [
            "30\n"
          ]
        }
      ]
    },
    {
      "cell_type": "markdown",
      "source": [
        "2) Contagem de vogais em uma string\n",
        "\n",
        "Peça uma palavra ao usuário e use um for para contar quantas vogais (a, e, i, o, u) existem."
      ],
      "metadata": {
        "id": "Xw8gph7LkL6R"
      }
    },
    {
      "cell_type": "code",
      "source": [
        "palavra=str(input('digite alguma palavra: '))\n",
        "contador=0\n",
        "for palavra_frase in palavra:\n",
        "  if palavra_frase.lower() in \"aeiou\":\n",
        "    contador=+1\n",
        "print(contador)\n"
      ],
      "metadata": {
        "colab": {
          "base_uri": "https://localhost:8080/"
        },
        "id": "9_M7Ju_rgzlI",
        "outputId": "d9c918bf-5e43-41be-bd6f-2e7151f589ab"
      },
      "execution_count": 4,
      "outputs": [
        {
          "output_type": "stream",
          "name": "stdout",
          "text": [
            "digite alguma palavra: oi\n",
            "1\n"
          ]
        }
      ]
    },
    {
      "cell_type": "markdown",
      "source": [],
      "metadata": {
        "id": "irD2xL3xkSDN"
      }
    },
    {
      "cell_type": "markdown",
      "source": [
        "3) Inverter lista usando while\n",
        "\n",
        "Dada a lista nomes = [\"Ana\", \"João\", \"Carlos\", \"Maria\"], use um while para inverter a ordem dos elementos (sem usar reverse() ou slicing)."
      ],
      "metadata": {
        "id": "YfW4Aw8ckZw-"
      }
    },
    {
      "cell_type": "code",
      "source": [
        "nomes = [\"Ana\", \"João\", \"Carlos\", \"Maria\"]\n",
        "invertida = []\n",
        "while nomes:\n",
        "    elemento = nomes.pop()\n",
        "    invertida.append(elemento)\n",
        "print(\"Lista invertida:\", invertida)"
      ],
      "metadata": {
        "id": "UmBfZneFjUO-",
        "colab": {
          "base_uri": "https://localhost:8080/"
        },
        "outputId": "49290e46-ed3d-4e66-f10d-e5288255cc3a"
      },
      "execution_count": 5,
      "outputs": [
        {
          "output_type": "stream",
          "name": "stdout",
          "text": [
            "Lista invertida: ['Maria', 'Carlos', 'João', 'Ana']\n"
          ]
        }
      ]
    },
    {
      "cell_type": "markdown",
      "source": [
        "4) Maior número em uma lista\n",
        "\n",
        "Escreva um programa que percorra uma lista de inteiros e encontre o maior valor."
      ],
      "metadata": {
        "id": "cvRuv0PxkkYi"
      }
    },
    {
      "cell_type": "code",
      "source": [
        "num=[1,2,3,5,6,7,8,9,10]\n",
        "maior=0\n",
        "for i in num:\n",
        "  if maior < i:\n",
        "    maior=i\n",
        "print(maior)"
      ],
      "metadata": {
        "colab": {
          "base_uri": "https://localhost:8080/"
        },
        "id": "7zWI1mQOkrmO",
        "outputId": "94374f17-c9e1-457c-b409-04a98f86281b"
      },
      "execution_count": 6,
      "outputs": [
        {
          "output_type": "stream",
          "name": "stdout",
          "text": [
            "10\n"
          ]
        }
      ]
    },
    {
      "cell_type": "markdown",
      "source": [
        "5) Remover elementos repetidos de uma lista\n",
        "\n",
        "Usando um for, percorra a lista valores = [1, 2, 2, 3, 4, 4, 5] e crie uma nova lista apenas com elementos únicos."
      ],
      "metadata": {
        "id": "xV6pmOVCkuCm"
      }
    },
    {
      "cell_type": "code",
      "source": [
        "valores = [1, 2, 2, 3, 4, 4, 5]\n",
        "numb=[]\n",
        "for numero in valores:\n",
        "  if valores.count(numero) == 1:\n",
        "    numb.append(numero)\n",
        "print(numb)"
      ],
      "metadata": {
        "colab": {
          "base_uri": "https://localhost:8080/"
        },
        "id": "w9qiALvRmw9Z",
        "outputId": "2061f02f-b061-4627-80cc-fa80b6cc5f2e"
      },
      "execution_count": 7,
      "outputs": [
        {
          "output_type": "stream",
          "name": "stdout",
          "text": [
            "[1, 3, 5]\n"
          ]
        }
      ]
    },
    {
      "cell_type": "markdown",
      "source": [
        "6) Verificar se palavra é palíndromo\n",
        "\n",
        "Peça uma palavra ao usuário e use while ou for para verificar se ela é igual de frente para trás (ex.: \"arara\")."
      ],
      "metadata": {
        "id": "_bHj-pkzk2TX"
      }
    },
    {
      "cell_type": "code",
      "source": [
        "palavra_frase = input(\"Digite uma palavra: \").lower()\n",
        "eh_palindromo = True\n",
        "\n",
        "for i in range(len(palavra_frase) // 2):\n",
        "    if palavra_frase[i] != palavra_frase[-(i + 1)]:\n",
        "        eh_palindromo = False\n",
        "        break\n",
        "\n",
        "if eh_palindromo:\n",
        "    print(\"É um palíndromo!\")\n",
        "else:\n",
        "    print(\"Não é um palíndromo.\")\n"
      ],
      "metadata": {
        "colab": {
          "base_uri": "https://localhost:8080/"
        },
        "id": "MO-gvUn2oW5C",
        "outputId": "6741a1f7-1551-4d30-c6f1-2d1f41bca29c"
      },
      "execution_count": 8,
      "outputs": [
        {
          "output_type": "stream",
          "name": "stdout",
          "text": [
            "Digite uma palavra: oi\n",
            "Não é um palíndromo.\n"
          ]
        }
      ]
    },
    {
      "cell_type": "markdown",
      "source": [
        "7 Contagem regressiva com while\n",
        "\n",
        "Peça ao usuário um número e faça uma contagem regressiva até 0."
      ],
      "metadata": {
        "id": "1PeOPJ3ClC0c"
      }
    },
    {
      "cell_type": "code",
      "source": [
        "oii=int(input('um numero: '))\n",
        "for i in range(oii,-1,-1):\n",
        "  print(i)\n",
        "\n"
      ],
      "metadata": {
        "colab": {
          "base_uri": "https://localhost:8080/"
        },
        "id": "tUA-XRMyqcv6",
        "outputId": "e88b6e77-68a5-4b74-de34-9d6acfbd2e90",
        "collapsed": true
      },
      "execution_count": 9,
      "outputs": [
        {
          "output_type": "stream",
          "name": "stdout",
          "text": [
            "um numero: 89\n",
            "89\n",
            "88\n",
            "87\n",
            "86\n",
            "85\n",
            "84\n",
            "83\n",
            "82\n",
            "81\n",
            "80\n",
            "79\n",
            "78\n",
            "77\n",
            "76\n",
            "75\n",
            "74\n",
            "73\n",
            "72\n",
            "71\n",
            "70\n",
            "69\n",
            "68\n",
            "67\n",
            "66\n",
            "65\n",
            "64\n",
            "63\n",
            "62\n",
            "61\n",
            "60\n",
            "59\n",
            "58\n",
            "57\n",
            "56\n",
            "55\n",
            "54\n",
            "53\n",
            "52\n",
            "51\n",
            "50\n",
            "49\n",
            "48\n",
            "47\n",
            "46\n",
            "45\n",
            "44\n",
            "43\n",
            "42\n",
            "41\n",
            "40\n",
            "39\n",
            "38\n",
            "37\n",
            "36\n",
            "35\n",
            "34\n",
            "33\n",
            "32\n",
            "31\n",
            "30\n",
            "29\n",
            "28\n",
            "27\n",
            "26\n",
            "25\n",
            "24\n",
            "23\n",
            "22\n",
            "21\n",
            "20\n",
            "19\n",
            "18\n",
            "17\n",
            "16\n",
            "15\n",
            "14\n",
            "13\n",
            "12\n",
            "11\n",
            "10\n",
            "9\n",
            "8\n",
            "7\n",
            "6\n",
            "5\n",
            "4\n",
            "3\n",
            "2\n",
            "1\n",
            "0\n"
          ]
        }
      ]
    },
    {
      "cell_type": "markdown",
      "source": [
        "8) Percorrendo um dicionário de notas\n",
        "\n",
        "Dado o dicionário notas = {\"Ana\": 8, \"Carlos\": 7, \"Maria\": 10}, use um for para exibir cada aluno com sua nota."
      ],
      "metadata": {
        "id": "wKkDTzwelK_f"
      }
    },
    {
      "cell_type": "code",
      "source": [
        "notas = {\"Ana\": 8, \"Carlos\": 7, \"Maria\": 10}\n",
        "for aluno, nota in notas.items():\n",
        "    print(aluno, \"tirou\", nota)"
      ],
      "metadata": {
        "colab": {
          "base_uri": "https://localhost:8080/"
        },
        "id": "H6Fhutp0tBOs",
        "outputId": "3587ddc5-7b1e-4d27-c1b4-64e4368ab172"
      },
      "execution_count": 10,
      "outputs": [
        {
          "output_type": "stream",
          "name": "stdout",
          "text": [
            "Ana tirou 8\n",
            "Carlos tirou 7\n",
            "Maria tirou 10\n"
          ]
        }
      ]
    },
    {
      "cell_type": "markdown",
      "source": [
        "9)Filtrar números pares de uma lista\n",
        "\n",
        "Dada a lista numeros = [10, 21, 32, 43, 54], use um for para criar uma nova lista contendo apenas os pares."
      ],
      "metadata": {
        "id": "xrXKbCl7lUQg"
      }
    },
    {
      "cell_type": "code",
      "source": [
        "numero = [10, 21, 32, 43, 54]\n",
        "par = []\n",
        "for n in numero:\n",
        "    if n % 2 == 0:\n",
        "        par.append(n)\n",
        "print(\"Lista de pares:\", par)"
      ],
      "metadata": {
        "colab": {
          "base_uri": "https://localhost:8080/"
        },
        "id": "ViJwVbMZv8wE",
        "outputId": "4288121d-b903-4f59-f721-b69594d3cdbc"
      },
      "execution_count": 11,
      "outputs": [
        {
          "output_type": "stream",
          "name": "stdout",
          "text": [
            "Lista de pares: [10, 32, 54]\n"
          ]
        }
      ]
    },
    {
      "cell_type": "markdown",
      "source": [
        "10) Contador de palavras em uma frase\n",
        "\n",
        "Peça ao usuário uma frase, divida em palavras (split()) e use um dicionário para contar quantas vezes cada palavra aparece."
      ],
      "metadata": {
        "id": "9pzoi0GxlcO8"
      }
    },
    {
      "cell_type": "code",
      "source": [
        "frase = input(\"Digite uma frase: \")\n",
        "palavra_frase = frase.split()\n",
        "palavras = {}\n",
        "for palavra_frase in palavra_frase:\n",
        "    if palavra_frase in palavras:\n",
        "        palavras[palavra_frase] += 1\n",
        "    else:\n",
        "        palavras[palavra_frase] = 1\n",
        "print(\"\\nContagem de palavras:\")\n",
        "for palavra_frase, qtd in palavras.items():\n",
        "    print(f\"{palavra_frase}: {qtd}\")"
      ],
      "metadata": {
        "colab": {
          "base_uri": "https://localhost:8080/"
        },
        "id": "Xa70xLZ_wQqL",
        "outputId": "405273ff-08e4-468f-cb91-3c50cc4660be"
      },
      "execution_count": 13,
      "outputs": [
        {
          "output_type": "stream",
          "name": "stdout",
          "text": [
            "Digite uma frase: arroz e pao\n",
            "\n",
            "Contagem de palavras:\n",
            "arroz: 1\n",
            "e: 1\n",
            "pao: 1\n"
          ]
        }
      ]
    }
  ]
}