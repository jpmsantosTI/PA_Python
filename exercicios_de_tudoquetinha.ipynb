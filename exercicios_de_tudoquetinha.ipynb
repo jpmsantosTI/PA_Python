{
  "nbformat": 4,
  "nbformat_minor": 0,
  "metadata": {
    "colab": {
      "provenance": [],
      "include_colab_link": true
    },
    "kernelspec": {
      "name": "python3",
      "display_name": "Python 3"
    },
    "language_info": {
      "name": "python"
    }
  },
  "cells": [
    {
      "cell_type": "markdown",
      "metadata": {
        "id": "view-in-github",
        "colab_type": "text"
      },
      "source": [
        "<a href=\"https://colab.research.google.com/github/jpmsantosTI/PA_Python/blob/main/exercicios_de_tudoquetinha.ipynb\" target=\"_parent\"><img src=\"https://colab.research.google.com/assets/colab-badge.svg\" alt=\"Open In Colab\"/></a>"
      ]
    },
    {
      "cell_type": "markdown",
      "source": [
        "Exercicios juntos_Laços,_condicionais,_listas,_tuplas_e_dicionários_"
      ],
      "metadata": {
        "id": "gGt_UwgWrgjT"
      }
    },
    {
      "cell_type": "markdown",
      "source": [
        "# Tuplas - Acesso e Desempacotamento\n",
        "\n",
        "1) Crie uma tupla contendo três tipos diferentes de dados: um número, uma string e uma lista. Use um laço de repetição para acessar e imprimir cada item da tupla. Além disso, dentro do laço, acesse e imprima o segundo item da lista que está dentro da tupla."
      ],
      "metadata": {
        "id": "HM91bKpkBqGI"
      }
    },
    {
      "cell_type": "code",
      "source": [
        "dados = (24, \"Cíntia\",[1,2,3])\n",
        "\n",
        "for i in dados:\n",
        "  print(i)"
      ],
      "metadata": {
        "colab": {
          "base_uri": "https://localhost:8080/"
        },
        "id": "sCbCOqPVYeRv",
        "outputId": "663614a0-b7bf-4245-cb2b-76d891e429ff"
      },
      "execution_count": null,
      "outputs": [
        {
          "output_type": "stream",
          "name": "stdout",
          "text": [
            "24\n",
            "Cíntia\n",
            "[1, 2, 3]\n"
          ]
        }
      ]
    },
    {
      "cell_type": "markdown",
      "source": [
        "# Dicionários - Criação e Acesso\n",
        "## Cadastro de Pessoas e Análise de Alturas\n",
        "2) Solicite ao usuário para inserir o nome e a altura de várias pessoas. Preencha um dicionário com essas informações e depois encontre e imprima o nome e a altura da pessoa mais alta e da mais baixa."
      ],
      "metadata": {
        "id": "6vEHxGtjBxMi"
      }
    },
    {
      "cell_type": "code",
      "source": [
        "alturas = {}\n",
        "\n",
        "while True:\n",
        "  nome = input(\"Digite o nome da pessoa para cadastro ou sair: \").lower()\n",
        "\n",
        "  if nome == \"sair\":\n",
        "    pessoamaisalta = max(alturas, key=alturas.get)\n",
        "    pessoamaisbaixa = min(alturas, key=alturas.get)\n",
        "    break\n",
        "  altura = float(input(f\"Digite a altura de {nome}: \"))\n",
        "\n",
        "  alturas[nome]= altura\n",
        "  print(alturas)\n",
        "\n",
        "print(f\"A pessoa mais alta é {pessoamaisalta} com altura de {alturas[pessoamaisalta]}\")\n",
        "print(f\"A pessoa mais baixa é {pessoamaisbaixa} com altura de {alturas[pessoamaisbaixa]}\")"
      ],
      "metadata": {
        "id": "MpJYauvTZR69",
        "colab": {
          "base_uri": "https://localhost:8080/"
        },
        "outputId": "9eedc4b1-22ba-4bde-d65d-30882ad2b8d7"
      },
      "execution_count": null,
      "outputs": [
        {
          "output_type": "stream",
          "name": "stdout",
          "text": [
            "Digite o nome da pessoa para cadastro ou sair: pablito\n",
            "Digite a altura de pablito: 1.9\n",
            "{'pablito': 1.9}\n",
            "Digite o nome da pessoa para cadastro ou sair: cintia\n",
            "Digite a altura de cintia: .5\n",
            "{'pablito': 1.9, 'cintia': 0.5}\n",
            "Digite o nome da pessoa para cadastro ou sair: peruibe\n",
            "Digite a altura de peruibe: 0\n",
            "{'pablito': 1.9, 'cintia': 0.5, 'peruibe': 0.0}\n",
            "Digite o nome da pessoa para cadastro ou sair: sair\n",
            "A pessoa mais alta é pablito com altura de 1.9\n",
            "A pessoa mais baixa é peruibe com altura de 0.0\n"
          ]
        }
      ]
    },
    {
      "cell_type": "markdown",
      "source": [
        "# Lista, laços e Condicionais\n",
        "3) Descrição: Crie uma listacom cinco números inteiros. Use um laço de repetição e uma condicional para imprimir apenas os números que são múltiplos de 3."
      ],
      "metadata": {
        "id": "FytD4QZyELAt"
      }
    },
    {
      "cell_type": "code",
      "source": [
        "lista = []\n",
        "\n",
        "for i in range(5):\n",
        "  numero = int(input(\"digite um numero: \"))\n",
        "  lista.append(numero)\n",
        "  print(lista)\n",
        "\n",
        "for i in lista:\n",
        "  div = lista[0]%3\n",
        "  if div == 0:\n",
        "    print(f\"{i} é multiplo de 3\")\n",
        "  print(div)"
      ],
      "metadata": {
        "colab": {
          "base_uri": "https://localhost:8080/"
        },
        "id": "6RbMIEd6z4Y8",
        "outputId": "82044c2b-5e82-4325-b2f3-3866673d839e"
      },
      "execution_count": null,
      "outputs": [
        {
          "output_type": "stream",
          "name": "stdout",
          "text": [
            "digite um numero: 1\n",
            "[1]\n",
            "digite um numero: 2\n",
            "[1, 2]\n",
            "digite um numero: 5\n",
            "[1, 2, 5]\n",
            "digite um numero: 4\n",
            "[1, 2, 5, 4]\n",
            "digite um numero: 8\n",
            "[1, 2, 5, 4, 8]\n",
            "1\n",
            "1\n",
            "1\n",
            "1\n",
            "1\n"
          ]
        }
      ]
    },
    {
      "cell_type": "markdown",
      "source": [
        "# Manipulação de Strings e Condicionais\n",
        "4) Descrição: Crie uma string com uma frase. Use uma condicional para verificar se a frase contém a palavra \"Python\". Se sim, substitua a palavra \"Python\" por \"programação\" e imprima a nova frase."
      ],
      "metadata": {
        "id": "hwn3Fz8aEYSH"
      }
    },
    {
      "cell_type": "code",
      "source": [
        "new = \"\"\n",
        "frase = \"eu faço python\"\n",
        "print(frase)\n",
        "# queb = frase.split()\n",
        "\n",
        "while True:\n",
        "  if \"python\" in frase:\n",
        "    frase = frase.replace(\"python\", \"programação\")\n",
        "    print(frase)\n",
        "    break"
      ],
      "metadata": {
        "colab": {
          "base_uri": "https://localhost:8080/"
        },
        "id": "STjX0IZXfg_X",
        "outputId": "00b7d640-1e07-4db4-e45a-22e5af237d92"
      },
      "execution_count": null,
      "outputs": [
        {
          "output_type": "stream",
          "name": "stdout",
          "text": [
            "eu faço python\n",
            "eu faço programação\n"
          ]
        }
      ]
    },
    {
      "cell_type": "markdown",
      "source": [
        "# Simulação de Alfândega com Cadastro Dinâmico de Itens usando dicionário\n",
        "5) Simule uma situação de alfândega onde o funcionário cadastra itens novos encontrados na mala de uma pessoa que veio de uma viagem internacional. Após o cadastro de todos os itens, o programa imprime uma nota com todos os itens e seus preços, calcula o valor total e, se o valor total ultrapassar 500 dólares, calcula o valor de 60% a ser pago."
      ],
      "metadata": {
        "id": "hPP-JNTxEwFT"
      }
    },
    {
      "cell_type": "code",
      "source": [
        "produtos = {}\n",
        "\n",
        "while True:\n",
        "  itens = input(\"digite o nome do produto ou digite sair para sair: \")\n",
        "  if itens == \"sair\":\n",
        "\n",
        "    break\n",
        "  valor = float(input(\"digite o preço do produto: \"))\n",
        "\n",
        "  produtos[itens] = valor\n",
        "\n",
        "print(produtos)\n",
        "total = sum(produtos.values())\n",
        "print(total)\n",
        "if total >500:\n",
        "  total = total+(0.6*total)\n",
        "print(total)"
      ],
      "metadata": {
        "colab": {
          "base_uri": "https://localhost:8080/"
        },
        "id": "CD6do_iwq-eM",
        "outputId": "669a66bb-4ff3-4e99-d839-9eb40df60de0"
      },
      "execution_count": null,
      "outputs": [
        {
          "output_type": "stream",
          "name": "stdout",
          "text": [
            "digite o nome do produto ou digite sair para sair: celular\n",
            "digite o preço do produto: 50\n",
            "digite o nome do produto ou digite sair para sair: pão\n",
            "digite o preço do produto: 55\n",
            "digite o nome do produto ou digite sair para sair: sair\n",
            "{'celular': 50.0, 'pão': 55.0}\n",
            "105.0\n",
            "105.0\n"
          ]
        }
      ]
    },
    {
      "cell_type": "markdown",
      "source": [
        "# Identificação de Palavras Negativas em um Texto\n",
        "6) Você vai criar um programa em Python para analisar um texto e identificar palavras que expressam pensamentos negativos. Para isso, você usará uma lista de palavras negativas fornecida e verificará quais dessas palavras estão presentes no texto fornecido pelo usuário. Exemplo de palavras negtivas, acrescente mais na lista: # Lista de palavras negativas palavras_negativas = ['triste', 'deprimido', 'ansioso', 'desapontado', 'frustrado']"
      ],
      "metadata": {
        "id": "OH8D047zVsp-"
      }
    },
    {
      "cell_type": "code",
      "source": [
        "negativas =  ['triste', 'deprimido', 'ansioso', 'desapontado', 'frustrado']\n",
        "frase = input(\"Digite sua frase\") .lower()\n",
        "palavra_negativa = False\n",
        "\n",
        "for i in negativas:\n",
        "  if i in frase:\n",
        "    palavra_negativa = True\n",
        "    break\n",
        "\n",
        "if palavra_negativa == True:\n",
        "  print(\"Na sua frase tem palavras negativas\" , negativas)\n",
        "else:\n",
        "  print(\"Na sua frase não tem palavras negativas\")\n"
      ],
      "metadata": {
        "id": "xDSrYWf_Vr8G",
        "colab": {
          "base_uri": "https://localhost:8080/"
        },
        "outputId": "18dc521a-95ad-49f7-8cc2-1a27552c26eb"
      },
      "execution_count": null,
      "outputs": [
        {
          "output_type": "stream",
          "name": "stdout",
          "text": [
            "Digite sua fraseto bem\n",
            "Na sua frase não tem palavras negativas\n"
          ]
        }
      ]
    },
    {
      "cell_type": "markdown",
      "source": [
        "1) Soma dos números de uma lista\n",
        "\n",
        "Dada a lista numeros = [3, 7, 2, 8, 10], use um for para calcular a soma de todos os elementos."
      ],
      "metadata": {
        "id": "ZZZicFxfkEEg"
      }
    },
    {
      "cell_type": "code",
      "source": [
        "lista=[3,7,2,8,10]\n",
        "soma = 0\n",
        "\n",
        "for i in lista:\n",
        "  soma += i\n",
        "print(\"soma =\", soma)"
      ],
      "metadata": {
        "id": "k1C79BJdy5M2",
        "colab": {
          "base_uri": "https://localhost:8080/"
        },
        "outputId": "e901af71-2275-41e8-dec8-9bb458ffcd3b"
      },
      "execution_count": null,
      "outputs": [
        {
          "output_type": "stream",
          "name": "stdout",
          "text": [
            "soma = 30\n"
          ]
        }
      ]
    },
    {
      "cell_type": "markdown",
      "source": [
        "2) Contagem de vogais em uma string\n",
        "\n",
        "Peça uma palavra ao usuário e use um for para contar quantas vogais (a, e, i, o, u) existem."
      ],
      "metadata": {
        "id": "Xw8gph7LkL6R"
      }
    },
    {
      "cell_type": "code",
      "source": [
        "palavra = input(\"Digite uma palavra: \")\n",
        "contar = 0\n",
        "vogais = \"a,e,i,o,u\"\n",
        "\n",
        "for i in palavra:\n",
        "  if i in vogais:\n",
        "    contar += 1\n",
        "print(\"Está palavra tem\",contar,\"vogais\")"
      ],
      "metadata": {
        "id": "kXxiTg3ey5gM"
      },
      "execution_count": null,
      "outputs": []
    },
    {
      "cell_type": "markdown",
      "source": [
        "3) Inverter lista usando while\n",
        "\n",
        "Dada a lista nomes = [\"Ana\", \"João\", \"Carlos\", \"Maria\"], use um while para inverter a ordem dos elementos (sem usar reverse() ou slicing)."
      ],
      "metadata": {
        "id": "YfW4Aw8ckZw-"
      }
    },
    {
      "cell_type": "code",
      "source": [
        "lista = [\"Ana\", \"João\", \"Carlos\", \"Maria\"]\n",
        "inver =[]\n",
        "\n",
        "while len(lista) > 0:\n",
        "  ultimo = lista.pop() #remove e pega o último elemento\n",
        "  inver.append(ultimo)\n",
        "\n",
        "print(\"Lista invertida:\",inver)"
      ],
      "metadata": {
        "id": "HTlUceQUy6OE"
      },
      "execution_count": null,
      "outputs": []
    },
    {
      "cell_type": "markdown",
      "source": [
        "4) Maior número em uma lista\n",
        "\n",
        "Escreva um programa que percorra uma lista de inteiros e encontre o maior valor."
      ],
      "metadata": {
        "id": "cvRuv0PxkkYi"
      }
    },
    {
      "cell_type": "code",
      "source": [
        "num = [8,12,3,1,15,7,9,4,6,22]\n",
        "print(\"O maior número é:\",max(num))"
      ],
      "metadata": {
        "id": "mkgHGresy6cM"
      },
      "execution_count": null,
      "outputs": []
    },
    {
      "cell_type": "markdown",
      "source": [
        "5) Remover elementos repetidos de uma lista\n",
        "\n",
        "Usando um for, percorra a lista valores = [1, 2, 2, 3, 4, 4, 5] e crie uma nova lista apenas com elementos únicos."
      ],
      "metadata": {
        "id": "xV6pmOVCkuCm"
      }
    },
    {
      "cell_type": "code",
      "source": [
        "valor = [1, 2, 2, 3, 4, 4, 5]\n",
        "unic = []\n",
        "\n",
        "for v in valor:\n",
        "  if v not in unic:\n",
        "    unic.append(v)\n",
        "\n",
        "print(\"Lista sem repetir elementos:\", unic)"
      ],
      "metadata": {
        "id": "k8Z816xAy7Lz"
      },
      "execution_count": null,
      "outputs": []
    },
    {
      "cell_type": "markdown",
      "source": [
        "6) Verificar se palavra é palíndromo\n",
        "\n",
        "Peça uma palavra ao usuário e use while ou for para verificar se ela é igual de frente para trás (ex.: \"arara\")."
      ],
      "metadata": {
        "id": "_bHj-pkzk2TX"
      }
    },
    {
      "cell_type": "code",
      "source": [
        "palavra = input(\"Digite uma palavra: \")\n",
        "\n",
        "palindromo = True\n",
        "tam = len(palavra)\n",
        "for i in range( tam // 2):\n",
        "  if palavra[i] != palavra[tam - 1 - i]:\n",
        "    palindromo = False\n",
        "    break\n",
        "if palindromo :\n",
        "  print(\"É um palíndromo\")\n",
        "else:\n",
        "  print(\"Não é um palíndromo\")"
      ],
      "metadata": {
        "id": "6YJRHpEKy8T0"
      },
      "execution_count": null,
      "outputs": []
    },
    {
      "cell_type": "markdown",
      "source": [
        "7 Contagem regressiva com while\n",
        "\n",
        "Peça ao usuário um número e faça uma contagem regressiva até 0."
      ],
      "metadata": {
        "id": "1PeOPJ3ClC0c"
      }
    },
    {
      "cell_type": "code",
      "source": [
        "num = int(input(\"Digite um número: \"))\n",
        "while num >=0:\n",
        "  print(num)\n",
        "  num -= 1 #decrementa o número em 1 a cada passo, fazendo a contagem regressiva.\n",
        "print(\"A contagem acaba aqui\")"
      ],
      "metadata": {
        "id": "B-h2K2ZRy84U"
      },
      "execution_count": null,
      "outputs": []
    },
    {
      "cell_type": "markdown",
      "source": [
        "8) Percorrendo um dicionário de notas\n",
        "\n",
        "Dado o dicionário notas = {\"Ana\": 8, \"Carlos\": 7, \"Maria\": 10}, use um for para exibir cada aluno com sua nota."
      ],
      "metadata": {
        "id": "wKkDTzwelK_f"
      }
    },
    {
      "cell_type": "code",
      "source": [
        "notas = {\"Ana\": 8, \"Carlos\": 7, \"Maria\": 10}\n",
        "for aluno,nota in notas.items():\n",
        "  print(aluno,\"tem nota\", nota )"
      ],
      "metadata": {
        "id": "bmplSTU1y9P0"
      },
      "execution_count": null,
      "outputs": []
    },
    {
      "cell_type": "markdown",
      "source": [
        "9)Filtrar números pares de uma lista\n",
        "\n",
        "Dada a lista numeros = [10, 21, 32, 43, 54], use um for para criar uma nova lista contendo apenas os pares."
      ],
      "metadata": {
        "id": "xrXKbCl7lUQg"
      }
    },
    {
      "cell_type": "code",
      "source": [
        "numeros = [10, 21, 32, 43, 54]\n",
        "par = []\n",
        "for i in numeros:\n",
        "  if i %2 == 0: #verifica se o número é par\n",
        "    par.append(i)\n",
        "\n",
        "print(\"Números pares\",par)"
      ],
      "metadata": {
        "id": "aBEBrrmky9vL"
      },
      "execution_count": null,
      "outputs": []
    },
    {
      "cell_type": "markdown",
      "source": [
        "10) Contador de palavras em uma frase\n",
        "\n",
        "Peça ao usuário uma frase, divida em palavras (split()) e use um dicionário para contar quantas vezes cada palavra aparece."
      ],
      "metadata": {
        "id": "9pzoi0GxlcO8"
      }
    },
    {
      "cell_type": "code",
      "source": [
        "frase = input(\"Digite uma frase: \")\n",
        "palavra = frase.split()\n",
        "contar = {}\n",
        "\n",
        "for i in palavra:\n",
        "  if i in contar:\n",
        "    contar[i] +=1\n",
        "  else:\n",
        "    contar[i] = 1\n",
        "print(\"Contagem de palavras: \",contar)"
      ],
      "metadata": {
        "id": "eDgdvEWly98k"
      },
      "execution_count": null,
      "outputs": []
    }
  ]
}