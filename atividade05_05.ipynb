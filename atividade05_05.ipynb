{
  "nbformat": 4,
  "nbformat_minor": 0,
  "metadata": {
    "colab": {
      "provenance": [],
      "authorship_tag": "ABX9TyNVOaLI/qGvq4M8Eoogzl7g",
      "include_colab_link": true
    },
    "kernelspec": {
      "name": "python3",
      "display_name": "Python 3"
    },
    "language_info": {
      "name": "python"
    }
  },
  "cells": [
    {
      "cell_type": "markdown",
      "metadata": {
        "id": "view-in-github",
        "colab_type": "text"
      },
      "source": [
        "<a href=\"https://colab.research.google.com/github/jpmsantosTI/PA_Python/blob/main/atividade05_05.ipynb\" target=\"_parent\"><img src=\"https://colab.research.google.com/assets/colab-badge.svg\" alt=\"Open In Colab\"/></a>"
      ]
    },
    {
      "cell_type": "code",
      "execution_count": null,
      "metadata": {
        "id": "tS46O7RZqMwv"
      },
      "outputs": [],
      "source": [
        "# 1. Comparação de Idades\n",
        "# Peça ao usuário duas idades. Mostre se a primeira idade é maior\n",
        "# que a segunda.\n",
        "\n",
        "# 2. Validação de Acesso\n",
        "# Usuário precisa ter mais de 18 anos e a senha correta (\"1234\")\n",
        "# para acessar o sistema.\n",
        "\n",
        "# 3. Número Fora de Intervalo\n",
        "# Verifique se um número não está entre 10 e 50.\n",
        "\n",
        "# 4. Compra Aprovação\n",
        "# Em uma loja, o cliente pode fazer a compra se tiver saldo suficiente\n",
        "# ou se tiver um cupom de desconto ativo (tem_cupom == True).\n",
        "\n",
        "# 5. Checar Condições Múltiplas\n",
        "# Verifique se um número é positivo e par.\n",
        "\n",
        "# 6. Verificar Se É Adolescente\n",
        "# Verifique se uma pessoa tem entre 13 e 17 anos.\n",
        "\n",
        "# 7. Senha Correta ou Admin\n",
        "# Permita o acesso se a senha estiver correta (\"12345\") ou se o\n",
        "# usuário for administrador (admin == True).\n",
        "\n",
        "# 8. Nota para Aprovação\n",
        "# Uma pessoa passa se tiver nota maior ou igual a 6 e não estiver\n",
        "# ausente (presente == True).\n",
        "\n",
        "# 9. Sistema de Multa de Velocidade\n",
        "# Verifique se a velocidade é maior que 80 km/h. Se for, a pessoa\n",
        "# está multada.\n",
        "\n",
        "# 10. Triagem de Evento\n",
        "# Permita a entrada no evento apenas para quem tiver convite\n",
        "# (tem_convite == True) e idade maior ou igual a 18 anos."
      ]
    },
    {
      "cell_type": "markdown",
      "source": [
        "### **1**"
      ],
      "metadata": {
        "id": "F93gIWgRtdiI"
      }
    },
    {
      "cell_type": "code",
      "source": [
        "# entrada\n",
        "idade1 = int(input(\"verifique se essa idade é maior que a próxima: \"))\n",
        "idade2 = int(input(\"segunda idade: \"))\n",
        "\n",
        "# processamento\n",
        "maior = idade1 > idade2\n",
        "\n",
        "# saida\n",
        "print(\"A primeira idade é maior? \", maior)"
      ],
      "metadata": {
        "colab": {
          "base_uri": "https://localhost:8080/"
        },
        "id": "H-D99UM7sWGw",
        "outputId": "91bdf2c9-486b-47ea-d52c-a8982be4395b"
      },
      "execution_count": null,
      "outputs": [
        {
          "output_type": "stream",
          "name": "stdout",
          "text": [
            "verifique se essa idade é maior que a próxima: 2\n",
            "segunda idade: 1\n",
            "A primeira idade é maior?  True\n"
          ]
        }
      ]
    },
    {
      "cell_type": "markdown",
      "source": [
        "### **2**"
      ],
      "metadata": {
        "id": "01cfkg5Otnqx"
      }
    },
    {
      "cell_type": "code",
      "source": [
        "# entrada\n",
        "idade = int(input(\"sua idade: \"))\n",
        "senhacerta = 1234\n",
        "senha = int(input(\"senha: \"))\n",
        "\n",
        "# processamento\n",
        "maior = idade >= 18\n",
        "senhafunciona = senha == senhacerta\n",
        "pode = maior == senhafunciona\n",
        "\n",
        "# saida\n",
        "print(\"acesso permitido: \", pode)\n"
      ],
      "metadata": {
        "colab": {
          "base_uri": "https://localhost:8080/"
        },
        "id": "yMKw7jANtuZ1",
        "outputId": "f504c1dc-1914-4002-c70c-3656720f7b9f"
      },
      "execution_count": null,
      "outputs": [
        {
          "output_type": "stream",
          "name": "stdout",
          "text": [
            "sua idade: 19\n",
            "senha: 1234\n",
            "acesso permitido:  True\n"
          ]
        }
      ]
    },
    {
      "cell_type": "markdown",
      "source": [
        "### **3**"
      ],
      "metadata": {
        "id": "68R7APjNyfUO"
      }
    },
    {
      "cell_type": "code",
      "source": [
        "# entrada\n",
        "numero = int(input(\"escolhe um numero: \"))\n",
        "\n",
        "# processamento\n",
        "naoentre = numero < 10 or numero > 50\n",
        "\n",
        "# saida\n",
        "print(\"nao esta entre 10 e 50: \", naoentre)\n",
        "\n"
      ],
      "metadata": {
        "id": "09WZa2lcyiL-",
        "colab": {
          "base_uri": "https://localhost:8080/"
        },
        "outputId": "a01dc525-9a32-4224-f5fe-7f47c5e0437c"
      },
      "execution_count": 7,
      "outputs": [
        {
          "output_type": "stream",
          "name": "stdout",
          "text": [
            "escolhe um numero: 1\n",
            "nao esta entre 10 e 50  True\n"
          ]
        }
      ]
    },
    {
      "cell_type": "markdown",
      "source": [
        "### **4**"
      ],
      "metadata": {
        "id": "pPw3KuMd6h5Q"
      }
    },
    {
      "cell_type": "code",
      "source": [
        "# entrada\n",
        "saldo = float(input(\"Saldo atual: \"))\n",
        "preco = float(input(\"Preço do produto: \"))\n",
        "cupom = bool(input(\"true/false: \"))\n",
        "\n",
        "# processamento\n",
        "compra = saldo > preco or cupom\n",
        "\n",
        "# saida\n",
        "print(\"pode comprar: \", compra)"
      ],
      "metadata": {
        "colab": {
          "base_uri": "https://localhost:8080/"
        },
        "id": "aGZPfM2Z6kfL",
        "outputId": "c7a14fe8-df36-4723-dd19-9f508d14bc3e"
      },
      "execution_count": 8,
      "outputs": [
        {
          "output_type": "stream",
          "name": "stdout",
          "text": [
            "Saldo atual: 20\n",
            "Preço do produto: 30\n",
            "true/falsetrue\n",
            "pode comprar:  True\n"
          ]
        }
      ]
    },
    {
      "cell_type": "markdown",
      "source": [
        "### **5**"
      ],
      "metadata": {
        "id": "ev_yrdVd8M01"
      }
    },
    {
      "cell_type": "code",
      "source": [
        "# entrada\n",
        "number = float(input(\"Numero: \"))\n",
        "# processamento\n",
        "par = number % 2 == 0\n",
        "positivo = number > 0\n",
        "# saida\n",
        "print(\"é par: \", par)\n",
        "print(\"é positivo: \", positivo)"
      ],
      "metadata": {
        "colab": {
          "base_uri": "https://localhost:8080/"
        },
        "id": "RqLHNce58Om1",
        "outputId": "2cd95359-16ee-41a2-d304-05934b69b4d5"
      },
      "execution_count": 10,
      "outputs": [
        {
          "output_type": "stream",
          "name": "stdout",
          "text": [
            "Numero: 2\n",
            "é par:  True\n",
            "é positivo:  True\n"
          ]
        }
      ]
    },
    {
      "cell_type": "markdown",
      "source": [
        "### **6**"
      ],
      "metadata": {
        "id": "JITCBl8s9Rpy"
      }
    },
    {
      "cell_type": "code",
      "source": [
        "# entrada\n",
        "idade = int(input(\"Minha idade: \"))\n",
        "# processamento\n",
        "Adolescente = idade >= 13 and idade <= 17\n",
        "# saida\n",
        "print(\"é adolscente: \", Adolescente)"
      ],
      "metadata": {
        "colab": {
          "base_uri": "https://localhost:8080/"
        },
        "id": "0AHhzNyv9bjM",
        "outputId": "8ac012a4-69c5-4112-8f37-0ece88859b50"
      },
      "execution_count": 12,
      "outputs": [
        {
          "output_type": "stream",
          "name": "stdout",
          "text": [
            "MInha idade: 14\n",
            "é adolscente:  True\n"
          ]
        }
      ]
    },
    {
      "cell_type": "markdown",
      "source": [
        "### **7**"
      ],
      "metadata": {
        "id": "gun4u5gl-CR5"
      }
    },
    {
      "cell_type": "code",
      "source": [
        "# entrada\n",
        "senha = input(\"senha :\")\n",
        "admin = bool(input(\"true ou false: \"))\n",
        "# processamento\n",
        "pode = senha == \"1234\" or admin\n",
        "# saida\n",
        "print(\"pode entrar: \", pode)"
      ],
      "metadata": {
        "colab": {
          "base_uri": "https://localhost:8080/"
        },
        "id": "sR4IVq15-BHm",
        "outputId": "7482ea9b-2e30-4257-a13c-dfde1afe91e8"
      },
      "execution_count": 13,
      "outputs": [
        {
          "output_type": "stream",
          "name": "stdout",
          "text": [
            "senha :1234\n",
            "true ou falsefalse\n",
            "pode entrar:  True\n"
          ]
        }
      ]
    },
    {
      "cell_type": "markdown",
      "source": [
        "### **8**"
      ],
      "metadata": {
        "id": "1SjV3lts_M_E"
      }
    },
    {
      "cell_type": "code",
      "source": [
        "# entrada e processamento\n",
        "presente = input(\"s/n: \") == \"s\"\n",
        "nota = int(input(\"nota: \")) >= 6 and presente\n",
        "# saida\n",
        "print(\"passou: \", nota)"
      ],
      "metadata": {
        "colab": {
          "base_uri": "https://localhost:8080/"
        },
        "id": "Zktbaem2_OqE",
        "outputId": "dd25748e-7d64-419b-e769-ba20a9272e2b"
      },
      "execution_count": 21,
      "outputs": [
        {
          "output_type": "stream",
          "name": "stdout",
          "text": [
            "s/n: s\n",
            "nota: 5\n",
            "passou:  False\n"
          ]
        }
      ]
    },
    {
      "cell_type": "markdown",
      "source": [
        "### **9**"
      ],
      "metadata": {
        "id": "eJ3puvW1AcVT"
      }
    },
    {
      "cell_type": "code",
      "source": [
        "# entrada\n",
        "vel = int(input(\"velocidade em km/h: \"))\n",
        "# processamento\n",
        "passou = vel > 80\n",
        "# saida\n",
        "print(\"multado: \", passou)"
      ],
      "metadata": {
        "colab": {
          "base_uri": "https://localhost:8080/"
        },
        "id": "erX5sn75Agey",
        "outputId": "fdd6ac85-ab2e-4d58-ee6a-6c4a998c478d"
      },
      "execution_count": 23,
      "outputs": [
        {
          "output_type": "stream",
          "name": "stdout",
          "text": [
            "velocidade em km/h: 5\n",
            "multado:  False\n"
          ]
        }
      ]
    },
    {
      "cell_type": "markdown",
      "source": [
        "### **10**"
      ],
      "metadata": {
        "id": "TZQGmoHpBCHs"
      }
    },
    {
      "cell_type": "code",
      "source": [
        "# entrada\n",
        "idade = int(input(\"idade: \")) >= 18\n",
        "convite = input(\"s/n: \") == \"s\"\n",
        "# processamento\n",
        "entra = idade == convite\n",
        "# saida\n",
        "print(\"Pode entrar: \", entra)"
      ],
      "metadata": {
        "colab": {
          "base_uri": "https://localhost:8080/"
        },
        "id": "kpQYhombBGUa",
        "outputId": "c86a6b9a-5156-4a45-83d7-a14a2b4ae4ac"
      },
      "execution_count": 26,
      "outputs": [
        {
          "output_type": "stream",
          "name": "stdout",
          "text": [
            "idade: 45\n",
            "s/n: s\n",
            "Pode entrar:  True\n"
          ]
        }
      ]
    }
  ]
}